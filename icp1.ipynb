                                                    Neural Assessment-1




Video link : https://drive.google.com/drive/folders/1eFwinbGedmi8o--Z6kNNESBelcnt3ewJ


{
 "cells": [
  {
   "cell_type": "code",
   "execution_count": 1,
   "metadata": {},
   "outputs": [
    {
     "name": "stdout",
     "output_type": "stream",
     "text": [
      "Full name: akshith reddy\n",
      "String with alternate characters: asihrdy\n"
     ]
    }
   ],
   "source": [
    "#1st question\n",
    "# Function to concatenate first name and last name\n",
    "def fullname(first_name, last_name):\n",
    "    return f\"{first_name} {last_name}\"\n",
    "\n",
    "# Function to return every other character in the full_name string\n",
    "def string_alternative(full_name):\n",
    "    return full_name[::2]\n",
    "\n",
    "def main():\n",
    "    # Taking input from the user\n",
    "    first_name = input(\"Enter your first name: \")\n",
    "    last_name = input(\"Enter your last name: \")\n",
    "\n",
    "    # Generating full name\n",
    "    full_name = fullname(first_name, last_name)\n",
    "    print(f\"Full name: {full_name}\")\n",
    "\n",
    "    # Getting the alternate character string\n",
    "    alt_string = string_alternative(full_name)\n",
    "    print(f\"String with alternate characters: {alt_string}\")\n",
    "\n",
    "# Calling the main function\n",
    "if __name__ == \"__main__\":\n",
    "    main()\n"
   ]
  },
  {
   "cell_type": "code",
   "execution_count": 3,
   "metadata": {},
   "outputs": [
    {
     "name": "stdout",
     "output_type": "stream",
     "text": [
      "Word count has been written to output.txt\n"
     ]
    }
   ],
   "source": [
    "#2nd question:\n",
    "from collections import defaultdict\n",
    "\n",
    "def word_count(file_path):\n",
    "    # Dictionary to store word counts\n",
    "    word_counts = defaultdict(int)\n",
    "    \n",
    "    # Reading the input file\n",
    "    with open(file_path, 'r') as file:\n",
    "        lines = file.readlines()\n",
    "    \n",
    "    # Processing each line\n",
    "    for line in lines:\n",
    "        # Splitting the line into words\n",
    "        words = line.strip().split()\n",
    "        # Counting each word\n",
    "        for word in words:\n",
    "            word_counts[word] += 1\n",
    "    \n",
    "    return lines, word_counts\n",
    "\n",
    "def write_output(lines, word_counts, output_path):\n",
    "    # Writing to the output file\n",
    "    with open(output_path, 'w') as file:\n",
    "        # Writing original lines\n",
    "        file.writelines(lines)\n",
    "        file.write(\"\\nWord_Count:\\n\")\n",
    "        # Writing word counts\n",
    "        for word, count in word_counts.items():\n",
    "            file.write(f\"{word}: {count}\\n\")\n",
    "\n",
    "def main():\n",
    "    input_file = 'input.txt'\n",
    "    output_file = 'output.txt'\n",
    "    \n",
    "    # Getting lines and word counts\n",
    "    lines, word_counts = word_count(input_file)\n",
    "    \n",
    "    # Writing the output to output.txt\n",
    "    write_output(lines, word_counts, output_file)\n",
    "    print(f\"Word count has been written to {output_file}\")\n",
    "\n",
    "if __name__ == \"__main__\":\n",
    "    main()\n",
    "\n"
   ]
  },
  {
   "cell_type": "code",
   "execution_count": 4,
   "metadata": {},
   "outputs": [
    {
     "name": "stdout",
     "output_type": "stream",
     "text": [
      "Heights in inches: [151.0, 161.0]\n",
      "Heights in centimeters: [383.54, 408.94]\n"
     ]
    }
   ],
   "source": [
    "#3(a)rd question:\n",
    "# Function to convert inches to centimeters\n",
    "def inches_to_cm(inches):\n",
    "    return round(inches * 2.54, 2)\n",
    "\n",
    "def main():\n",
    "    # Input heights in inches\n",
    "    heights_in_inches = []\n",
    "    num_customers = int(input(\"Enter the number of customers: \"))\n",
    "\n",
    "    # Nested loop to get the heights\n",
    "    for i in range(num_customers):\n",
    "        height = float(input(f\"Enter height for customer {i + 1} (in inches): \"))\n",
    "        heights_in_inches.append(height)\n",
    "\n",
    "    # Converting heights to centimeters\n",
    "    heights_in_cm = []\n",
    "    for height in heights_in_inches:\n",
    "        heights_in_cm.append(inches_to_cm(height))\n",
    "\n",
    "    print(f\"Heights in inches: {heights_in_inches}\")\n",
    "    print(f\"Heights in centimeters: {heights_in_cm}\")\n",
    "\n",
    "if __name__ == \"__main__\":\n",
    "    main()\n",
    "\n"
   ]
  },
  {
   "cell_type": "code",
   "execution_count": 5,
   "metadata": {},
   "outputs": [
    {
     "name": "stdout",
     "output_type": "stream",
     "text": [
      "Heights in inches: [151.0, 161.0]\n",
      "Heights in centimeters: [383.54, 408.94]\n"
     ]
    }
   ],
   "source": [
    "#3(b) question:\n",
    "def inches_to_cm(inches):\n",
    "    return round(inches * 2.54, 2)\n",
    "\n",
    "def main():\n",
    "    # Input heights in inches\n",
    "    num_customers = int(input(\"Enter the number of customers: \"))\n",
    "    heights_in_inches = [float(input(f\"Enter height for customer {i + 1} (in inches): \")) for i in range(num_customers)]\n",
    "\n",
    "    # Converting heights to centimeters using list comprehension\n",
    "    heights_in_cm = [inches_to_cm(height) for height in heights_in_inches]\n",
    "\n",
    "    print(f\"Heights in inches: {heights_in_inches}\")\n",
    "    print(f\"Heights in centimeters: {heights_in_cm}\")\n",
    "\n",
    "if __name__ == \"__main__\":\n",
    "    main()\n"
   ]
  }
 ],
 "metadata": {
  "kernelspec": {
   "display_name": "Python 3",
   "language": "python",
   "name": "python3"
  },
  "language_info": {
   "codemirror_mode": {
    "name": "ipython",
    "version": 3
   },
   "file_extension": ".py",
   "mimetype": "text/x-python",
   "name": "python",
   "nbconvert_exporter": "python",
   "pygments_lexer": "ipython3",
   "version": "3.10.0"
  }
 },
 "nbformat": 4,
 "nbformat_minor": 2
}

